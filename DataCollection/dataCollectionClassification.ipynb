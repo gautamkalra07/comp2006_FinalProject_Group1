{
 "cells": [
  {
   "cell_type": "markdown",
   "metadata": {},
   "source": [
    "# Dataset: Classification Dataset\n",
    "- The dataset for classification analysis was obtained from Kaggle. The dataset includes a CSV file named titanic_train.csv, which contains the training data.\n",
    "\n",
    "- **Source**: Kaggle (link: https://www.kaggle.com/datasets/titanic/titanic-train-dataset)\n",
    "\n",
    "- **Data File**: titanic_train.csv\n",
    "\n",
    "- **Number of variables**: 12 (satisfying the requirement of at least 10 variables)\n",
    "\n",
    "- **Data types**:\n",
    "\n",
    "Integer: PassengerId, Pclass, Age, SibSp, Parch, Fare, and others.\n",
    "Float: Embarked.\n",
    "Object (presumably strings): Name, Sex, Ticket, Cabin, and Embarked. (satisfying the requirement of three or more data types)\n",
    "- **Problems**:\n",
    "\n",
    " Missing data: The 'Age' variable has 177 missing values, and the 'Cabin' variable has 687 missing values. (satisfying the requirement of missing data)\n",
    "Categorical data that needs to be converted to numeric: The object-type variables such as Name, Sex, Ticket, Cabin, and Embarked need to be converted to numeric using techniques like one-hot encoding or label encoding.\n",
    "Entries like text that need to be converted into proper features: Certain variables may contain entries in text format that require preprocessing to convert them into proper numerical features.\n",
    "This dataset satisfies the criteria outlined for the project, including having at least 10 variables, three or more data types, and addressing multiple problems such as missing data and data conversion.\n",
    "- **Target Variable**: The target variable for our modeling is 'Survived', which represents whether a passenger survived the Titanic disaster or not."
   ]
  },
  {
   "cell_type": "code",
   "execution_count": 2,
   "metadata": {},
   "outputs": [
    {
     "name": "stdout",
     "output_type": "stream",
     "text": [
      "Train Data Shape: (891, 12)\n",
      "Train Data Data Types: PassengerId      int64\n",
      "Survived         int64\n",
      "Pclass           int64\n",
      "Name            object\n",
      "Sex             object\n",
      "Age            float64\n",
      "SibSp            int64\n",
      "Parch            int64\n",
      "Ticket          object\n",
      "Fare           float64\n",
      "Cabin           object\n",
      "Embarked        object\n",
      "dtype: object\n",
      "Train Data Missing Values: PassengerId      0\n",
      "Survived         0\n",
      "Pclass           0\n",
      "Name             0\n",
      "Sex              0\n",
      "Age            177\n",
      "SibSp            0\n",
      "Parch            0\n",
      "Ticket           0\n",
      "Fare             0\n",
      "Cabin          687\n",
      "Embarked         2\n",
      "dtype: int64\n"
     ]
    }
   ],
   "source": [
    "import pandas as pd\n",
    "\n",
    "# Load the train and test files\n",
    "train_file = 'titanic-train.csv'\n",
    "train_data = pd.read_csv(train_file)\n",
    "# Check for missing values and data types in the train data\n",
    "print(f\"Train Data Shape: {train_data.shape}\")\n",
    "print(f\"Train Data Data Types: {train_data.dtypes}\")\n",
    "print(f\"Train Data Missing Values: {train_data.isnull().sum()}\")"
   ]
  }
 ],
 "metadata": {
  "language_info": {
   "name": "python"
  }
 },
 "nbformat": 4,
 "nbformat_minor": 2
}
