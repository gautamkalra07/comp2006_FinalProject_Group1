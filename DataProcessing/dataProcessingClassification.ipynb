{
 "cells": [
  {
   "cell_type": "code",
   "execution_count": 11,
   "metadata": {},
   "outputs": [],
   "source": [
    "import pandas as pd\n",
    "from sklearn.preprocessing import LabelEncoder\n",
    "\n",
    "# Load the Titanic dataset from train.csv\n",
    "df = pd.read_csv('titanic-train.csv')\n",
    "\n",
    "# Fill missing values in the 'Age' column with the median age\n",
    "median_age = df['Age'].median()\n",
    "df['Age'] = df['Age'].fillna(median_age)\n",
    "\n",
    "# Fill missing values in the 'Embarked' column with the mode (most frequent value)\n",
    "mode_embarked = df['Embarked'].mode()[0]\n",
    "df['Embarked'] = df['Embarked'].fillna(mode_embarked)\n",
    "\n",
    "# Fill missing values in the 'Cabin' column with a placeholder value (e.g., 'Unknown')\n",
    "df['Cabin'] = df['Cabin'].fillna('Unknown')\n",
    "\n",
    "# Drop rows with missing values in the 'Fare' column (only one missing value)\n",
    "df = df.dropna(subset=['Fare'])\n",
    "\n",
    "# Convert categorical variables ('Sex', 'Embarked', 'Ticket', 'Cabin') to numeric using one-hot encoding\n",
    "df = pd.get_dummies(df, columns=['Sex', 'Embarked', 'Ticket', 'Cabin'])\n",
    "\n",
    "# Label encode the 'Name' column\n",
    "label_encoder = LabelEncoder()\n",
    "df['Name'] = label_encoder.fit_transform(df['Name'])\n",
    "\n",
    "# Save the preprocessed data to a new CSV file\n",
    "df.to_csv('preprocessed_dataclassification.csv', index=False)"
   ]
  }
 ],
 "metadata": {
  "language_info": {
   "name": "python"
  }
 },
 "nbformat": 4,
 "nbformat_minor": 2
}
